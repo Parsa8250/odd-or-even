{
 "cells": [
  {
   "cell_type": "code",
   "execution_count": 15,
   "id": "d8cae894-58af-44ca-b18c-872dcb67a3af",
   "metadata": {},
   "outputs": [
    {
     "name": "stdin",
     "output_type": "stream",
     "text": [
      " 20\n"
     ]
    },
    {
     "name": "stdout",
     "output_type": "stream",
     "text": [
      "زوج\n"
     ]
    }
   ],
   "source": [
    "x=int(input())\n",
    "if x%2 :\n",
    "    print(\"فرد\")\n",
    "else :\n",
    "    print(\"زوج\")"
   ]
  },
  {
   "cell_type": "code",
   "execution_count": null,
   "id": "2c4f6b7a-95da-4f05-9eab-38bc48f2fdeb",
   "metadata": {},
   "outputs": [],
   "source": []
  },
  {
   "cell_type": "code",
   "execution_count": 19,
   "id": "15ef688b-e27e-446e-aaa5-6e22674af0d8",
   "metadata": {},
   "outputs": [
    {
     "name": "stdin",
     "output_type": "stream",
     "text": [
      " 22\n"
     ]
    },
    {
     "name": "stdout",
     "output_type": "stream",
     "text": [
      "زوج\n"
     ]
    }
   ],
   "source": [
    "x=int(input())\n",
    "if x%2==0 :\n",
    "    print(\"زوج\")\n",
    "if x%2==1 :\n",
    "    print(\"فرد\")"
   ]
  },
  {
   "cell_type": "code",
   "execution_count": null,
   "id": "58fdbfbd-43c0-45b6-8d67-6e815dbfabf2",
   "metadata": {},
   "outputs": [],
   "source": []
  }
 ],
 "metadata": {
  "kernelspec": {
   "display_name": "Python [conda env:base] *",
   "language": "python",
   "name": "conda-base-py"
  },
  "language_info": {
   "codemirror_mode": {
    "name": "ipython",
    "version": 3
   },
   "file_extension": ".py",
   "mimetype": "text/x-python",
   "name": "python",
   "nbconvert_exporter": "python",
   "pygments_lexer": "ipython3",
   "version": "3.12.7"
  }
 },
 "nbformat": 4,
 "nbformat_minor": 5
}
